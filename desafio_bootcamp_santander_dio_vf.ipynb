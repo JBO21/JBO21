{
  "nbformat": 4,
  "nbformat_minor": 0,
  "metadata": {
    "colab": {
      "provenance": [],
      "authorship_tag": "ABX9TyOUBIJWN+Fanh9yTgoKW8u+",
      "include_colab_link": true
    },
    "kernelspec": {
      "name": "python3",
      "display_name": "Python 3"
    },
    "language_info": {
      "name": "python"
    }
  },
  "cells": [
    {
      "cell_type": "markdown",
      "metadata": {
        "id": "view-in-github",
        "colab_type": "text"
      },
      "source": [
        "<a href=\"https://colab.research.google.com/github/JBO21/JBO21/blob/main/desafio_bootcamp_santander_dio_vf.ipynb\" target=\"_parent\"><img src=\"https://colab.research.google.com/assets/colab-badge.svg\" alt=\"Open In Colab\"/></a>"
      ]
    },
    {
      "cell_type": "code",
      "execution_count": 1,
      "metadata": {
        "id": "hJyeBg4ejVVr"
      },
      "outputs": [],
      "source": [
        "import pandas as pd\n"
      ]
    },
    {
      "cell_type": "markdown",
      "source": [
        "Importando a base de dados do portal de transparência do Goverdo de SP"
      ],
      "metadata": {
        "id": "YaPs2NMG10Xc"
      }
    },
    {
      "cell_type": "code",
      "source": [
        "!wget https://www.transparencia.sp.gov.br/PortalTransparencia-Report/txt/RemuneracaoAtivos.csv"
      ],
      "metadata": {
        "colab": {
          "base_uri": "https://localhost:8080/"
        },
        "id": "frGZ_cTVytB2",
        "outputId": "6be07f9e-3f70-4177-e15e-8ca13dc18678"
      },
      "execution_count": 2,
      "outputs": [
        {
          "output_type": "stream",
          "name": "stdout",
          "text": [
            "--2023-09-19 16:56:57--  https://www.transparencia.sp.gov.br/PortalTransparencia-Report/txt/RemuneracaoAtivos.csv\n",
            "Resolving www.transparencia.sp.gov.br (www.transparencia.sp.gov.br)... 200.144.5.233\n",
            "Connecting to www.transparencia.sp.gov.br (www.transparencia.sp.gov.br)|200.144.5.233|:443... connected.\n",
            "HTTP request sent, awaiting response... 200 OK\n",
            "Length: 68530708 (65M) [application/octet-stream]\n",
            "Saving to: ‘RemuneracaoAtivos.csv’\n",
            "\n",
            "RemuneracaoAtivos.c 100%[===================>]  65.36M  1.04MB/s    in 65s     \n",
            "\n",
            "2023-09-19 16:58:03 (1.01 MB/s) - ‘RemuneracaoAtivos.csv’ saved [68530708/68530708]\n",
            "\n"
          ]
        }
      ]
    },
    {
      "cell_type": "markdown",
      "source": [
        "**lendo a base de dados**"
      ],
      "metadata": {
        "id": "WvFLsNiN1wvi"
      }
    },
    {
      "cell_type": "code",
      "source": [
        "df = pd.read_csv('RemuneracaoAtivos.csv', sep=';', encoding='ISO-8859-1')"
      ],
      "metadata": {
        "id": "sFSSqDMQzD2n"
      },
      "execution_count": 3,
      "outputs": []
    },
    {
      "cell_type": "markdown",
      "source": [
        "**limpando a base de dados**\n"
      ],
      "metadata": {
        "id": "dMpMVvCM2Bpc"
      }
    },
    {
      "cell_type": "code",
      "source": [
        "df2 = df.drop(['FÉRIAS E 13º SALÁRIO', 'PAGAMENTOS EVENTUAIS', 'LICENÇA PRÊMIO INDENIZADA', 'ABONO PERMANÊNCIA & OUTRAS INDENIZAÇÕES', 'REDUTOR SALARIAL', 'TOTAL LIQUÍDO (R$)', 'GRUPO'], axis=1)"
      ],
      "metadata": {
        "id": "lU-55GFRvvIZ"
      },
      "execution_count": 4,
      "outputs": []
    },
    {
      "cell_type": "markdown",
      "source": [
        "**selecionando apenas cargos de informática**"
      ],
      "metadata": {
        "id": "JbBf9m8t2Het"
      }
    },
    {
      "cell_type": "code",
      "source": [
        "selecao = df2[df2['CARGO'].str.contains('INFORMATICA', na = False)]"
      ],
      "metadata": {
        "id": "EhgEMNpCxDt0"
      },
      "execution_count": 5,
      "outputs": []
    },
    {
      "cell_type": "markdown",
      "source": [
        "**Instalando a Biblioteca openai**"
      ],
      "metadata": {
        "id": "tUsxpxdGXFrc"
      }
    },
    {
      "cell_type": "code",
      "source": [
        "!pip install openai\n"
      ],
      "metadata": {
        "colab": {
          "base_uri": "https://localhost:8080/"
        },
        "id": "oVOUCZjx9aZb",
        "outputId": "881f943a-8b43-497e-9155-d635997f5ad6"
      },
      "execution_count": 16,
      "outputs": [
        {
          "output_type": "stream",
          "name": "stdout",
          "text": [
            "Requirement already satisfied: openai in /usr/local/lib/python3.10/dist-packages (0.28.0)\n",
            "Requirement already satisfied: requests>=2.20 in /usr/local/lib/python3.10/dist-packages (from openai) (2.31.0)\n",
            "Requirement already satisfied: tqdm in /usr/local/lib/python3.10/dist-packages (from openai) (4.66.1)\n",
            "Requirement already satisfied: aiohttp in /usr/local/lib/python3.10/dist-packages (from openai) (3.8.5)\n",
            "Requirement already satisfied: charset-normalizer<4,>=2 in /usr/local/lib/python3.10/dist-packages (from requests>=2.20->openai) (3.2.0)\n",
            "Requirement already satisfied: idna<4,>=2.5 in /usr/local/lib/python3.10/dist-packages (from requests>=2.20->openai) (3.4)\n",
            "Requirement already satisfied: urllib3<3,>=1.21.1 in /usr/local/lib/python3.10/dist-packages (from requests>=2.20->openai) (2.0.4)\n",
            "Requirement already satisfied: certifi>=2017.4.17 in /usr/local/lib/python3.10/dist-packages (from requests>=2.20->openai) (2023.7.22)\n",
            "Requirement already satisfied: attrs>=17.3.0 in /usr/local/lib/python3.10/dist-packages (from aiohttp->openai) (23.1.0)\n",
            "Requirement already satisfied: multidict<7.0,>=4.5 in /usr/local/lib/python3.10/dist-packages (from aiohttp->openai) (6.0.4)\n",
            "Requirement already satisfied: async-timeout<5.0,>=4.0.0a3 in /usr/local/lib/python3.10/dist-packages (from aiohttp->openai) (4.0.3)\n",
            "Requirement already satisfied: yarl<2.0,>=1.0 in /usr/local/lib/python3.10/dist-packages (from aiohttp->openai) (1.9.2)\n",
            "Requirement already satisfied: frozenlist>=1.1.1 in /usr/local/lib/python3.10/dist-packages (from aiohttp->openai) (1.4.0)\n",
            "Requirement already satisfied: aiosignal>=1.1.2 in /usr/local/lib/python3.10/dist-packages (from aiohttp->openai) (1.3.1)\n"
          ]
        }
      ]
    },
    {
      "cell_type": "markdown",
      "source": [
        "**Carregando a chave API do do Openai**\n",
        "Obs: inserir a sua propria chave"
      ],
      "metadata": {
        "id": "vFoMj4d5X-Ev"
      }
    },
    {
      "cell_type": "code",
      "source": [
        "import openai\n",
        "\n",
        "openai_api_key = 'SUA CHAVE'\n",
        "openai.api_key = openai_api_key"
      ],
      "metadata": {
        "id": "H2h3Ur6i9ipT"
      },
      "execution_count": 30,
      "outputs": []
    },
    {
      "cell_type": "markdown",
      "source": [
        "**Utilizando o ChatGPT para criar a mensagem personalizada para cada servidor baseado na sua remuneração**"
      ],
      "metadata": {
        "id": "nwmJwU-gYaJE"
      }
    },
    {
      "cell_type": "code",
      "source": [
        "def criar_mensagem (nome, salario):\n",
        "\n",
        "  prompt = f'Olá, {nome}! Com um salário de R$ {salario}, você pode considerar investir em '\n",
        "  response = openai.Completion.create(engine=\"text-davinci-002\", prompt=prompt, max_tokens=30, n=1, stop=None, temperature=0.7)\n",
        "  msg_invest = response.choices[0].text.strip('\"\\n\"')\n",
        "  return msg_invest\n"
      ],
      "metadata": {
        "id": "JpcU9RjNG46-"
      },
      "execution_count": 51,
      "outputs": []
    },
    {
      "cell_type": "markdown",
      "source": [
        "Aplicação da função criar_mensagem ao Dataframe"
      ],
      "metadata": {
        "id": "lEqX2qxdY8Mj"
      }
    },
    {
      "cell_type": "code",
      "source": [
        "selecao['MSG'] = selecao.apply(lambda row:criar_mensagem(row[\"NOME\"], row[\"REMUNERAÇÃO DO MÊS\"]), axis=1)"
      ],
      "metadata": {
        "id": "byxQKbO6RGs3",
        "colab": {
          "base_uri": "https://localhost:8080/"
        },
        "outputId": "4fffc1de-d50e-4f35-ef12-5875f2970294"
      },
      "execution_count": 52,
      "outputs": [
        {
          "output_type": "stream",
          "name": "stderr",
          "text": [
            "<ipython-input-52-88123a546049>:1: SettingWithCopyWarning: \n",
            "A value is trying to be set on a copy of a slice from a DataFrame.\n",
            "Try using .loc[row_indexer,col_indexer] = value instead\n",
            "\n",
            "See the caveats in the documentation: https://pandas.pydata.org/pandas-docs/stable/user_guide/indexing.html#returning-a-view-versus-a-copy\n",
            "  selecao['MSG'] = selecao.apply(lambda row:criar_mensagem(row[\"NOME\"], row[\"REMUNERAÇÃO DO MÊS\"]), axis=1)\n"
          ]
        }
      ]
    },
    {
      "cell_type": "code",
      "source": [
        "selecao.head()"
      ],
      "metadata": {
        "colab": {
          "base_uri": "https://localhost:8080/",
          "height": 310
        },
        "id": "4NtiuflyWJCq",
        "outputId": "c4b02ddd-77a4-4ca4-b93b-cdfffd11c04d"
      },
      "execution_count": 53,
      "outputs": [
        {
          "output_type": "execute_result",
          "data": {
            "text/plain": [
              "                              NOME                         CARGO  \\\n",
              "12054     AIRTON MORAIS NASCIMENTO          ANALISTA INFORMATICA   \n",
              "17045  ALESSANDRO DE SOUZA GOULART          ANALISTA INFORMATICA   \n",
              "35814   ANA MARIA SANTOS O ANDRADE      ESPECIALISTA INFORMATICA   \n",
              "60654   ARI CEZAR MOREIRA DA SILVA  ANALISTA SUPORTE INFORMATICA   \n",
              "77446         CARLOS ALBERTO DIOGO           TECNICO INFORMATICA   \n",
              "\n",
              "                               ORGÃO REMUNERAÇÃO DO MÊS  \\\n",
              "12054  CIA.PROCES.DAD.EST.SP PRODESP           12889,84   \n",
              "17045  CIA.PROCES.DAD.EST.SP PRODESP           13926,71   \n",
              "35814  CIA.PROCES.DAD.EST.SP PRODESP           25245,69   \n",
              "60654  CIA.PROCES.DAD.EST.SP PRODESP            8153,20   \n",
              "77446  CIA.PROCES.DAD.EST.SP PRODESP            5685,23   \n",
              "\n",
              "                                                     MSG  \n",
              "12054  1) Ações: com um salário desse tamanho, você p...  \n",
              "17045  A) Renda fixa, como títulos do governo ou CDBs...  \n",
              "35814  -Ações\\n-Tesouro Direto\\n-Fundos Imobiliários\\...  \n",
              "60654  -\\t\\t\\t\\t\\t\\t\\t\\t\\t\\t\\t\\t\\t\\t\\t\\t\\t\\t\\t\\t\\t\\t\\...  \n",
              "77446      alguns produtos, como por exemplo:\\n\\n1. U...  "
            ],
            "text/html": [
              "\n",
              "  <div id=\"df-fd0815c0-263b-45fb-b988-08a477672316\" class=\"colab-df-container\">\n",
              "    <div>\n",
              "<style scoped>\n",
              "    .dataframe tbody tr th:only-of-type {\n",
              "        vertical-align: middle;\n",
              "    }\n",
              "\n",
              "    .dataframe tbody tr th {\n",
              "        vertical-align: top;\n",
              "    }\n",
              "\n",
              "    .dataframe thead th {\n",
              "        text-align: right;\n",
              "    }\n",
              "</style>\n",
              "<table border=\"1\" class=\"dataframe\">\n",
              "  <thead>\n",
              "    <tr style=\"text-align: right;\">\n",
              "      <th></th>\n",
              "      <th>NOME</th>\n",
              "      <th>CARGO</th>\n",
              "      <th>ORGÃO</th>\n",
              "      <th>REMUNERAÇÃO DO MÊS</th>\n",
              "      <th>MSG</th>\n",
              "    </tr>\n",
              "  </thead>\n",
              "  <tbody>\n",
              "    <tr>\n",
              "      <th>12054</th>\n",
              "      <td>AIRTON MORAIS NASCIMENTO</td>\n",
              "      <td>ANALISTA INFORMATICA</td>\n",
              "      <td>CIA.PROCES.DAD.EST.SP PRODESP</td>\n",
              "      <td>12889,84</td>\n",
              "      <td>1) Ações: com um salário desse tamanho, você p...</td>\n",
              "    </tr>\n",
              "    <tr>\n",
              "      <th>17045</th>\n",
              "      <td>ALESSANDRO DE SOUZA GOULART</td>\n",
              "      <td>ANALISTA INFORMATICA</td>\n",
              "      <td>CIA.PROCES.DAD.EST.SP PRODESP</td>\n",
              "      <td>13926,71</td>\n",
              "      <td>A) Renda fixa, como títulos do governo ou CDBs...</td>\n",
              "    </tr>\n",
              "    <tr>\n",
              "      <th>35814</th>\n",
              "      <td>ANA MARIA SANTOS O ANDRADE</td>\n",
              "      <td>ESPECIALISTA INFORMATICA</td>\n",
              "      <td>CIA.PROCES.DAD.EST.SP PRODESP</td>\n",
              "      <td>25245,69</td>\n",
              "      <td>-Ações\\n-Tesouro Direto\\n-Fundos Imobiliários\\...</td>\n",
              "    </tr>\n",
              "    <tr>\n",
              "      <th>60654</th>\n",
              "      <td>ARI CEZAR MOREIRA DA SILVA</td>\n",
              "      <td>ANALISTA SUPORTE INFORMATICA</td>\n",
              "      <td>CIA.PROCES.DAD.EST.SP PRODESP</td>\n",
              "      <td>8153,20</td>\n",
              "      <td>-\\t\\t\\t\\t\\t\\t\\t\\t\\t\\t\\t\\t\\t\\t\\t\\t\\t\\t\\t\\t\\t\\t\\...</td>\n",
              "    </tr>\n",
              "    <tr>\n",
              "      <th>77446</th>\n",
              "      <td>CARLOS ALBERTO DIOGO</td>\n",
              "      <td>TECNICO INFORMATICA</td>\n",
              "      <td>CIA.PROCES.DAD.EST.SP PRODESP</td>\n",
              "      <td>5685,23</td>\n",
              "      <td>alguns produtos, como por exemplo:\\n\\n1. U...</td>\n",
              "    </tr>\n",
              "  </tbody>\n",
              "</table>\n",
              "</div>\n",
              "    <div class=\"colab-df-buttons\">\n",
              "\n",
              "  <div class=\"colab-df-container\">\n",
              "    <button class=\"colab-df-convert\" onclick=\"convertToInteractive('df-fd0815c0-263b-45fb-b988-08a477672316')\"\n",
              "            title=\"Convert this dataframe to an interactive table.\"\n",
              "            style=\"display:none;\">\n",
              "\n",
              "  <svg xmlns=\"http://www.w3.org/2000/svg\" height=\"24px\" viewBox=\"0 -960 960 960\">\n",
              "    <path d=\"M120-120v-720h720v720H120Zm60-500h600v-160H180v160Zm220 220h160v-160H400v160Zm0 220h160v-160H400v160ZM180-400h160v-160H180v160Zm440 0h160v-160H620v160ZM180-180h160v-160H180v160Zm440 0h160v-160H620v160Z\"/>\n",
              "  </svg>\n",
              "    </button>\n",
              "\n",
              "  <style>\n",
              "    .colab-df-container {\n",
              "      display:flex;\n",
              "      gap: 12px;\n",
              "    }\n",
              "\n",
              "    .colab-df-convert {\n",
              "      background-color: #E8F0FE;\n",
              "      border: none;\n",
              "      border-radius: 50%;\n",
              "      cursor: pointer;\n",
              "      display: none;\n",
              "      fill: #1967D2;\n",
              "      height: 32px;\n",
              "      padding: 0 0 0 0;\n",
              "      width: 32px;\n",
              "    }\n",
              "\n",
              "    .colab-df-convert:hover {\n",
              "      background-color: #E2EBFA;\n",
              "      box-shadow: 0px 1px 2px rgba(60, 64, 67, 0.3), 0px 1px 3px 1px rgba(60, 64, 67, 0.15);\n",
              "      fill: #174EA6;\n",
              "    }\n",
              "\n",
              "    .colab-df-buttons div {\n",
              "      margin-bottom: 4px;\n",
              "    }\n",
              "\n",
              "    [theme=dark] .colab-df-convert {\n",
              "      background-color: #3B4455;\n",
              "      fill: #D2E3FC;\n",
              "    }\n",
              "\n",
              "    [theme=dark] .colab-df-convert:hover {\n",
              "      background-color: #434B5C;\n",
              "      box-shadow: 0px 1px 3px 1px rgba(0, 0, 0, 0.15);\n",
              "      filter: drop-shadow(0px 1px 2px rgba(0, 0, 0, 0.3));\n",
              "      fill: #FFFFFF;\n",
              "    }\n",
              "  </style>\n",
              "\n",
              "    <script>\n",
              "      const buttonEl =\n",
              "        document.querySelector('#df-fd0815c0-263b-45fb-b988-08a477672316 button.colab-df-convert');\n",
              "      buttonEl.style.display =\n",
              "        google.colab.kernel.accessAllowed ? 'block' : 'none';\n",
              "\n",
              "      async function convertToInteractive(key) {\n",
              "        const element = document.querySelector('#df-fd0815c0-263b-45fb-b988-08a477672316');\n",
              "        const dataTable =\n",
              "          await google.colab.kernel.invokeFunction('convertToInteractive',\n",
              "                                                    [key], {});\n",
              "        if (!dataTable) return;\n",
              "\n",
              "        const docLinkHtml = 'Like what you see? Visit the ' +\n",
              "          '<a target=\"_blank\" href=https://colab.research.google.com/notebooks/data_table.ipynb>data table notebook</a>'\n",
              "          + ' to learn more about interactive tables.';\n",
              "        element.innerHTML = '';\n",
              "        dataTable['output_type'] = 'display_data';\n",
              "        await google.colab.output.renderOutput(dataTable, element);\n",
              "        const docLink = document.createElement('div');\n",
              "        docLink.innerHTML = docLinkHtml;\n",
              "        element.appendChild(docLink);\n",
              "      }\n",
              "    </script>\n",
              "  </div>\n",
              "\n",
              "\n",
              "<div id=\"df-bc99dfce-eefb-4408-a7e0-7363f16284d3\">\n",
              "  <button class=\"colab-df-quickchart\" onclick=\"quickchart('df-bc99dfce-eefb-4408-a7e0-7363f16284d3')\"\n",
              "            title=\"Suggest charts.\"\n",
              "            style=\"display:none;\">\n",
              "\n",
              "<svg xmlns=\"http://www.w3.org/2000/svg\" height=\"24px\"viewBox=\"0 0 24 24\"\n",
              "     width=\"24px\">\n",
              "    <g>\n",
              "        <path d=\"M19 3H5c-1.1 0-2 .9-2 2v14c0 1.1.9 2 2 2h14c1.1 0 2-.9 2-2V5c0-1.1-.9-2-2-2zM9 17H7v-7h2v7zm4 0h-2V7h2v10zm4 0h-2v-4h2v4z\"/>\n",
              "    </g>\n",
              "</svg>\n",
              "  </button>\n",
              "\n",
              "<style>\n",
              "  .colab-df-quickchart {\n",
              "      --bg-color: #E8F0FE;\n",
              "      --fill-color: #1967D2;\n",
              "      --hover-bg-color: #E2EBFA;\n",
              "      --hover-fill-color: #174EA6;\n",
              "      --disabled-fill-color: #AAA;\n",
              "      --disabled-bg-color: #DDD;\n",
              "  }\n",
              "\n",
              "  [theme=dark] .colab-df-quickchart {\n",
              "      --bg-color: #3B4455;\n",
              "      --fill-color: #D2E3FC;\n",
              "      --hover-bg-color: #434B5C;\n",
              "      --hover-fill-color: #FFFFFF;\n",
              "      --disabled-bg-color: #3B4455;\n",
              "      --disabled-fill-color: #666;\n",
              "  }\n",
              "\n",
              "  .colab-df-quickchart {\n",
              "    background-color: var(--bg-color);\n",
              "    border: none;\n",
              "    border-radius: 50%;\n",
              "    cursor: pointer;\n",
              "    display: none;\n",
              "    fill: var(--fill-color);\n",
              "    height: 32px;\n",
              "    padding: 0;\n",
              "    width: 32px;\n",
              "  }\n",
              "\n",
              "  .colab-df-quickchart:hover {\n",
              "    background-color: var(--hover-bg-color);\n",
              "    box-shadow: 0 1px 2px rgba(60, 64, 67, 0.3), 0 1px 3px 1px rgba(60, 64, 67, 0.15);\n",
              "    fill: var(--button-hover-fill-color);\n",
              "  }\n",
              "\n",
              "  .colab-df-quickchart-complete:disabled,\n",
              "  .colab-df-quickchart-complete:disabled:hover {\n",
              "    background-color: var(--disabled-bg-color);\n",
              "    fill: var(--disabled-fill-color);\n",
              "    box-shadow: none;\n",
              "  }\n",
              "\n",
              "  .colab-df-spinner {\n",
              "    border: 2px solid var(--fill-color);\n",
              "    border-color: transparent;\n",
              "    border-bottom-color: var(--fill-color);\n",
              "    animation:\n",
              "      spin 1s steps(1) infinite;\n",
              "  }\n",
              "\n",
              "  @keyframes spin {\n",
              "    0% {\n",
              "      border-color: transparent;\n",
              "      border-bottom-color: var(--fill-color);\n",
              "      border-left-color: var(--fill-color);\n",
              "    }\n",
              "    20% {\n",
              "      border-color: transparent;\n",
              "      border-left-color: var(--fill-color);\n",
              "      border-top-color: var(--fill-color);\n",
              "    }\n",
              "    30% {\n",
              "      border-color: transparent;\n",
              "      border-left-color: var(--fill-color);\n",
              "      border-top-color: var(--fill-color);\n",
              "      border-right-color: var(--fill-color);\n",
              "    }\n",
              "    40% {\n",
              "      border-color: transparent;\n",
              "      border-right-color: var(--fill-color);\n",
              "      border-top-color: var(--fill-color);\n",
              "    }\n",
              "    60% {\n",
              "      border-color: transparent;\n",
              "      border-right-color: var(--fill-color);\n",
              "    }\n",
              "    80% {\n",
              "      border-color: transparent;\n",
              "      border-right-color: var(--fill-color);\n",
              "      border-bottom-color: var(--fill-color);\n",
              "    }\n",
              "    90% {\n",
              "      border-color: transparent;\n",
              "      border-bottom-color: var(--fill-color);\n",
              "    }\n",
              "  }\n",
              "</style>\n",
              "\n",
              "  <script>\n",
              "    async function quickchart(key) {\n",
              "      const quickchartButtonEl =\n",
              "        document.querySelector('#' + key + ' button');\n",
              "      quickchartButtonEl.disabled = true;  // To prevent multiple clicks.\n",
              "      quickchartButtonEl.classList.add('colab-df-spinner');\n",
              "      try {\n",
              "        const charts = await google.colab.kernel.invokeFunction(\n",
              "            'suggestCharts', [key], {});\n",
              "      } catch (error) {\n",
              "        console.error('Error during call to suggestCharts:', error);\n",
              "      }\n",
              "      quickchartButtonEl.classList.remove('colab-df-spinner');\n",
              "      quickchartButtonEl.classList.add('colab-df-quickchart-complete');\n",
              "    }\n",
              "    (() => {\n",
              "      let quickchartButtonEl =\n",
              "        document.querySelector('#df-bc99dfce-eefb-4408-a7e0-7363f16284d3 button');\n",
              "      quickchartButtonEl.style.display =\n",
              "        google.colab.kernel.accessAllowed ? 'block' : 'none';\n",
              "    })();\n",
              "  </script>\n",
              "</div>\n",
              "    </div>\n",
              "  </div>\n"
            ]
          },
          "metadata": {},
          "execution_count": 53
        }
      ]
    },
    {
      "cell_type": "code",
      "source": [
        "for i in selecao.itertuples(index=False):\n",
        "  print(f\" Ola {i.NOME}, aconselhamos a investir em {i.MSG}\")"
      ],
      "metadata": {
        "colab": {
          "base_uri": "https://localhost:8080/"
        },
        "id": "WPcC2m5rjNVb",
        "outputId": "580b4c64-fc6b-4b6b-f4d2-e928e5fec938"
      },
      "execution_count": 55,
      "outputs": [
        {
          "output_type": "stream",
          "name": "stdout",
          "text": [
            " Ola AIRTON MORAIS NASCIMENTO, aconselhamos a investir em 1) Ações: com um salário desse tamanho, você pode considerar investir em\n",
            " Ola ALESSANDRO DE SOUZA GOULART, aconselhamos a investir em A) Renda fixa, como títulos do governo ou CDBs;\n",
            "B) Aç\n",
            " Ola ANA MARIA SANTOS O ANDRADE, aconselhamos a investir em -Ações\n",
            "-Tesouro Direto\n",
            "-Fundos Imobiliários\n",
            "-Fundos de Invest\n",
            " Ola ARI CEZAR MOREIRA DA SILVA, aconselhamos a investir em -\t\t\t\t\t\t\t\t\t\t\t\t\t\t\t\t\t\t\t\t\t\t\t\t\t\t\t\t\n",
            " Ola CARLOS ALBERTO DIOGO, aconselhamos a investir em     alguns produtos, como por exemplo:\n",
            "\n",
            "1. Um plano de previdência privada;\n",
            " Ola CARLOS TADEU VALCEZIA, aconselhamos a investir em - Renda fixa: como o CDB, que rende, em média, 95% do CDI;\n",
            " Ola CARLOS YUKIO OKUTI, aconselhamos a investir em -Ações\n",
            "-Fundo de investimento\n",
            "-Títulos do Tesouro Direto\n",
            " Ola CELESTINO LOPES SILVA FILHO, aconselhamos a investir em - Renda fixa: A rentabilidade da renda fixa costuma ser menor que a da renda variá\n",
            " Ola CELIA AKEMI ARATA MUTO, aconselhamos a investir em -Poupança: 20477,42*0,6/12 = 749,79\n",
            "-Tesouro Selic\n",
            " Ola CLAUDIA MARIA PEREIRA JIMENES, aconselhamos a investir em 1) Ações: com um valor médio de R$ 130,00, você pode compr\n",
            " Ola CLAUDIO FRANCISCO DE SALLES, aconselhamos a investir em Renda fixa: como a rentabilidade é atrelada à taxa SELIC, que atualmente\n",
            " Ola CRISTIANE VELEIRO LESSA, aconselhamos a investir em 1) Ações: com um salário mensal de R$ 12860,16, você pode\n",
            " Ola DEIVE DA SILVA MELO, aconselhamos a investir em -Tesouro Direto;\n",
            "-Fundos de Investimento;\n",
            "-Caderneta de Poupança.\n",
            " Ola EDINALDO PEREIRA DE SOUZA, aconselhamos a investir em 1) Aposentadoria: se você já tem mais de 60 anos de idade, você pode\n",
            " Ola EDSON DEMURI, aconselhamos a investir em POUPANÇA\n",
            "\n",
            "Renda fixa, como títulos do Tesouro Direto;\n",
            " Ola EDSON ISSAO TAKIGUTI, aconselhamos a investir em A) Renda fixa: os títulos de renda fixa oferecem ao investidor a\n",
            " Ola ELISEU PEREIRA SILVA, aconselhamos a investir em - Ações da Bolsa de Valores;\n",
            "- Fundos de investimento;\n",
            "- Tesouro\n",
            " Ola EMILIO KIMIO HARAKAWA, aconselhamos a investir em -Títulos do Tesouro Direto;\n",
            "-Fundos de investimento;\n",
            "-Açõ\n",
            " Ola ETIENE CATARINA CALDAS, aconselhamos a investir em - Renda fixa: como títulos do Tesouro Direto, CDBs e LCIs/LCAs\n",
            " Ola FERNANDO SIMOES BRANCO, aconselhamos a investir em 1) Ações:\n",
            "\n",
            "Com um salário de R$ 3155,84, você pode consider\n",
            " Ola FRANCISCO CARLOS ALVES BATISTA, aconselhamos a investir em - Renda Fixa: como títulos do Tesouro Direto, CDBs e LCIs/LCAs\n",
            " Ola FRANKLIN LUIZ SOARES, aconselhamos a investir em 1) Ações: com um salário mensal de R$ 3293,96, você pode\n",
            " Ola GUILHERME KIYOAKI MOTOKI, aconselhamos a investir em - Ações de empresas como Petrobras e Vale, que são empresas brasileiras\n",
            " Ola JAYME DE ANDRADE FILHO, aconselhamos a investir em - Renda fixa: como títulos do Tesouro Direto, CDBs ou LCIs/LC\n",
            " Ola JOAO BARRETO SANTOS FILHO, aconselhamos a investir em -Tesouro Direto\n",
            "-Fundos de Investimento\n",
            "-CDB\n",
            "-LCI\n",
            "-LCA\n",
            " Ola JOAO DE LIMA MATOS FILHO, aconselhamos a investir em - Renda fixa, como títulos do Tesouro Direto;\n",
            "- Ações de\n",
            " Ola JOSE ANTONIO ROSA, aconselhamos a investir em Ações, títulos do Tesouro Nacional e fundos de investimento.\n",
            " Ola JOSE HELIO DE SOUZA, aconselhamos a investir em - Ações da Bolsa de Valores;\n",
            "- Caderno de Poupança;\n",
            "- Tesou\n",
            " Ola JUTELMO RODRIGUES DA SILVA, aconselhamos a investir em -Tesouro Direto;\n",
            "-CDB;\n",
            "-Fundos de investimento;\n",
            "-Ações\n",
            " Ola LEANDRO DUTRA PENTEADO, aconselhamos a investir em - Renda fixa: como títulos do Tesouro Direto, CDBs de bancos mé\n",
            " Ola LOURIVAL AMBACK, aconselhamos a investir em Renda fixa: Como o objetivo é preservar o capital, a dica é investir em tít\n",
            " Ola LUIZ CARLOS GONCALVES PEREIRA, aconselhamos a investir em - Ações da Bolsa de Valores;\n",
            "- Fundos Imobiliários;\n",
            "- Tes\n",
            " Ola LUIZ CARLOS RIBEIRO JUNIOR, aconselhamos a investir em - Ações\n",
            "- Fundos de investimento\n",
            "- Títulos de renda fixa\n",
            "-\n",
            " Ola MAURICI CHINAQUE, aconselhamos a investir em -\tFundos de investimento;\n",
            "-\tAções;\n",
            "-\tTítulos pú\n",
            " Ola MAURO FLORENTINO, aconselhamos a investir em - Ações;\n",
            "- Renda fixa;\n",
            "- Fundos de investimento;\n",
            "- Tesouro\n",
            " Ola MILTON INHAUSER FILHO, aconselhamos a investir em Renda fixa: como a rentabilidade é atrelada à taxa de juros da economia, es\n",
            " Ola OCIMAR FERNANDES MASSAIA, aconselhamos a investir em - Renda fixa: com esse valor, você pode investir em títulos do Tesouro\n",
            " Ola ORLANDO ALVES DE MELO, aconselhamos a investir em Renda fixa: como o Tesouro Direto, que é um título do governo federal. \n",
            " Ola OSWALDO LUIS CUSTODIO ALMEIDA, aconselhamos a investir em - Ações da Bolsa de Valores;\n",
            "- Tesouro Direto;\n",
            "- CDB e LC\n",
            " Ola OTTO LUIZ CASTRO NUNES, aconselhamos a investir em 1) Ações: com um salário de R$ 8583,28, você pode considerar invest\n",
            " Ola PEDRO LUIS RIBEIRO BOTELHO, aconselhamos a investir em 1) Aposentadoria: se você está pensando em se aposentar, é importante considerar cu\n",
            " Ola PRISCILA ALVES, aconselhamos a investir em -Poupança: com uma taxa de rendimento de 0,5% ao mês, você\n",
            " Ola ROBERTO PASSOS FREITAS, aconselhamos a investir em 1) Um plano de previdência privada: com uma aplicação mensal de apro\n",
            " Ola RODRIGO NESLADEK, aconselhamos a investir em Ações\n",
            "Fundos Imobiliários\n",
            "Tesouro Direto\n",
            " Ola ROGERIO TARCISIO PEREIRA DE SA, aconselhamos a investir em 1) Ações: com um valor médio de R$ 100 reais por ação, voc\n",
            " Ola TZUNG SU FIEN, aconselhamos a investir em - Ações\n",
            "- FII\n",
            "- Títulos do Tesouro Direto\n",
            " Ola VITOR MANOEL BERNARDES SANTOS, aconselhamos a investir em -Ações \n",
            "-Fundos de investimento \n",
            "-Títulos públicos\n",
            " Ola WAGNER ARICO, aconselhamos a investir em Ter um plano de previdência privada\n",
            "\n",
            "Abrir uma conta poupança\n",
            "\n",
            "Const\n",
            " Ola WALDIR TINTI, aconselhamos a investir em Ações\n",
            "Fundos Imobiliários\n",
            "Tesouro Direto\n",
            " Ola WALTER LUIZ DE ALMEIDA SILVA, aconselhamos a investir em - uma previdência privada, que lhe dará um complemento à aposentadoria; \n",
            " Ola WALTER ROCHA MARMO JUNIOR, aconselhamos a investir em Ações\n",
            "Fundos Imobiliários\n",
            "Títulos do Tesouro Direto\n",
            " Ola WANDERLEY FERREIRA DA SILVA, aconselhamos a investir em Os principais investimentos para você considerar com o seu salário são: poupança, tí\n",
            " Ola WLADIMIR ROVAI, aconselhamos a investir em a) Ações \n",
            "b) Debêntures \n",
            "c) Fundos de renda fixa \n"
          ]
        }
      ]
    }
  ]
}